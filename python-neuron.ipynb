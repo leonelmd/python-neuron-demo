{
 "cells": [
  {
   "cell_type": "markdown",
   "metadata": {},
   "source": [
    "#Python-NEURON Interface\n",
    "\n",
    "The NEURON interpreter engine can be run in a Python session. This allows for greater flexibility in \n",
    "\n",
    "* Manipulating and plotting results within Python-based numerical libraries\n",
    "* Using expressions to manage parameters\n",
    "* Communicating results to other software systems\n",
    "\n",
    "For whom this demo is intended:\n",
    "\n",
    "* You are comfortable with Python and able to install new libraries\n",
    "* You have added >0 lines of code to ~/.bashrc\n",
    "* You can navigate a command line\n",
    "\n",
    "Aside from a Python 2.7 distribution, the libraries used below are\n",
    "\n",
    "* neuron, nrn -- from NEURON package \n",
    "* NumPy for array semantics: http://www.numpy.org/\n",
    "* Matplotlib for plotting: http://matplotlib.org/\n",
    "* IPython for this notebook: http://ipython.org/\n",
    "* Seaborn for style (very optional): http://stanford.edu/~mwaskom/software/seaborn/\n",
    "\n",
    "I will not go into detail about installing numpy/matplotlib or making NEURON available to your Python environment. The essential fact is that Python uses a path system to search for available packages. In Unix-like systems, you can manipulate this path in your environment. This is the BASH syntax appropriate for my Mac (you might put this in ~/.bashrc or ~/.profile):\n",
    "\n",
    "    export PYTHONPATH=$PYTHONPATH:/Applications/NEURON-7.3/nrn/lib/python/\n",
    "\n",
    "With IPython installed you should be able to open this .ipynb notebook from the command line like so:\n",
    "\n",
    "    ipython notebook python-neuron.ipynb"
   ]
  },
  {
   "cell_type": "markdown",
   "metadata": {},
   "source": [
    "## The cell_all.hoc script transcribed to Python"
   ]
  },
  {
   "cell_type": "markdown",
   "metadata": {},
   "source": [
    "If you are viewing a PDF of this document, you can copy & paste code into a Python script. If you are using the notebook, then you can just run each cell.\n",
    "\n",
    "Start with basic imports."
   ]
  },
  {
   "cell_type": "code",
   "execution_count": null,
   "metadata": {
    "collapsed": true
   },
   "outputs": [],
   "source": [
    "import neuron\n",
    "import nrn\n",
    "from neuron import h\n",
    "import numpy as np\n",
    "import matplotlib.pyplot as pp"
   ]
  },
  {
   "cell_type": "markdown",
   "metadata": {},
   "source": [
    "This library just sets default styles for plotting (**don't copy unless you installed seaborn**)"
   ]
  },
  {
   "cell_type": "code",
   "execution_count": null,
   "metadata": {
    "collapsed": true
   },
   "outputs": [],
   "source": [
    "import seaborn as sns\n",
    "sns.set_context('notebook')\n",
    "sns.set_style('darkgrid')\n",
    "sns.set_palette('deep')"
   ]
  },
  {
   "cell_type": "markdown",
   "metadata": {},
   "source": [
    "This allows for plotting within the notebook (**don't copy**)"
   ]
  },
  {
   "cell_type": "code",
   "execution_count": null,
   "metadata": {
    "collapsed": true
   },
   "outputs": [],
   "source": [
    "%matplotlib inline\n",
    "%config InlineBackend.figure_format = 'svg'\n",
    "pp.show()"
   ]
  },
  {
   "cell_type": "markdown",
   "metadata": {},
   "source": [
    "The first Python section below creates a soma section in NEURON. The equivalent NEURON code is:\n",
    "\n",
    "    create soma, axon\n",
    "\n",
    "    soma{\n",
    "      nseg=1\n",
    "      diam=30\n",
    "      L=30\n",
    "      Ra=150\n",
    "      cm=1  \n",
    "        insert pas\n",
    "        e_pas = -80\n",
    "      }"
   ]
  },
  {
   "cell_type": "code",
   "execution_count": null,
   "metadata": {
    "collapsed": true
   },
   "outputs": [],
   "source": [
    "soma = h.Section()\n",
    "soma.nseg = 1\n",
    "soma.diam = 30.\n",
    "soma.L = 30.\n",
    "soma.Ra = 150.\n",
    "soma.cm = 1.\n",
    "soma.insert('pas')\n",
    "soma.e_pas = -80."
   ]
  },
  {
   "cell_type": "markdown",
   "metadata": {},
   "source": [
    "The next part creates an axon section. The NEURON equivalent is:\n",
    "\n",
    "    axon{\n",
    "      nseg=25\n",
    "      diam=8\n",
    "      L=900\n",
    "      Ra=120\n",
    "      cm=2\n",
    "        insert pas\n",
    "        e_pas=-80\n",
    "        insert hh\n",
    "      }"
   ]
  },
  {
   "cell_type": "code",
   "execution_count": null,
   "metadata": {
    "collapsed": false
   },
   "outputs": [],
   "source": [
    "axon = h.Section()\n",
    "axon.nseg = 25\n",
    "axon.diam = 8.0\n",
    "axon.L = 900.0\n",
    "axon.Ra = 120.0\n",
    "axon.cm = 2.0\n",
    "axon.insert('pas')\n",
    "axon.e_pas = -80.0\n",
    "axon.insert('hh')"
   ]
  },
  {
   "cell_type": "markdown",
   "metadata": {},
   "source": [
    "NEURON:\n",
    "    \n",
    "    connect soma(1), axon(0)"
   ]
  },
  {
   "cell_type": "code",
   "execution_count": null,
   "metadata": {
    "collapsed": false
   },
   "outputs": [],
   "source": [
    "axon.connect(soma, 1, 0)"
   ]
  },
  {
   "cell_type": "markdown",
   "metadata": {},
   "source": [
    "This part creates the current-clamp object and connects it to the soma object. NEURON:\n",
    "\n",
    "    objectvar stim\n",
    "    soma stim=new IClamp(0.5)\n",
    "    stim.del = 1\n",
    "    stim.dur = 1\n",
    "    stim.amp = 20"
   ]
  },
  {
   "cell_type": "code",
   "execution_count": null,
   "metadata": {
    "collapsed": true
   },
   "outputs": [],
   "source": [
    "stim = h.IClamp(0.5, soma)\n",
    "stim.delay = 1.\n",
    "stim.dur = 1.\n",
    "stim.amp = 20"
   ]
  },
  {
   "cell_type": "markdown",
   "metadata": {},
   "source": [
    "Here we create the vectors to store the results. The NEURON code uses C++-like reference syntax with the \"&\" operator. Python uses another clunky syntax with the ._ref_v attribute. NEURON:\n",
    "\n",
    "    objref vsoma, vaxon1, vaxon2\n",
    "    vsoma = new Vector()\n",
    "    vaxon1 = new Vector()\n",
    "    vaxon2 = new Vector()\n",
    "\n",
    "    vsoma.record(&soma.v(.5))\n",
    "    vaxon1.record(&axon.v(.5))\n",
    "    vaxon2.record(&axon.v(.95))"
   ]
  },
  {
   "cell_type": "code",
   "execution_count": null,
   "metadata": {
    "collapsed": false
   },
   "outputs": [],
   "source": [
    "v_soma = h.Vector()\n",
    "v_soma.record(soma(0.5)._ref_v)\n",
    "\n",
    "v_axon1 = h.Vector()\n",
    "v_axon1.record(axon(0.5)._ref_v)\n",
    "\n",
    "v_axon2 = h.Vector()\n",
    "v_axon2.record(axon(0.95)._ref_v)\n",
    "\n",
    "v_time = h.Vector()\n",
    "v_time.record(h._ref_t)"
   ]
  },
  {
   "cell_type": "markdown",
   "metadata": {},
   "source": [
    "Now we'll load some defaults, initialize NEURON, set some global parameters, and run the simulation."
   ]
  },
  {
   "cell_type": "code",
   "execution_count": null,
   "metadata": {
    "collapsed": false
   },
   "outputs": [],
   "source": [
    "# run the simulation\n",
    "h.load_file(\"stdrun.hoc\")\n",
    "h.init()\n",
    "h.tstop = 10.0\n",
    "h.v_init = -80.0\n",
    "h.run()"
   ]
  },
  {
   "cell_type": "markdown",
   "metadata": {},
   "source": [
    "If all has gone well, NEURON has calculated the potentials that we asked for. Now we'll convert the sequences to arrays, for convenience. This is a two-step process, first making a list from the NEURON Vector objects, and then numpy arrays from the lists."
   ]
  },
  {
   "cell_type": "code",
   "execution_count": null,
   "metadata": {
    "collapsed": true
   },
   "outputs": [],
   "source": [
    "t_ = np.array( list(v_time) )\n",
    "v_s = np.array( list(v_soma) )\n",
    "v_a1 = np.array( list(v_axon1) )\n",
    "v_a2 = np.array( list(v_axon2) )"
   ]
  },
  {
   "cell_type": "markdown",
   "metadata": {},
   "source": [
    "Finally, we can plot the results.  In fact, we have numpy vectors of the results, so we can use them for any kind of calculation we'd like."
   ]
  },
  {
   "cell_type": "code",
   "execution_count": null,
   "metadata": {
    "collapsed": false
   },
   "outputs": [],
   "source": [
    "pp.plot(t_, np.c_[v_s, v_a1, v_a2])\n",
    "pp.xlabel('time (ms)')\n",
    "pp.ylabel('Membrane potential (mV)')\n",
    "pp.legend(('Soma', 'Axon 1', 'Axon 2'))"
   ]
  },
  {
   "cell_type": "markdown",
   "metadata": {},
   "source": [
    "For validation, here is the graphical output from NEURON:"
   ]
  },
  {
   "cell_type": "code",
   "execution_count": null,
   "metadata": {
    "collapsed": false
   },
   "outputs": [],
   "source": [
    "from IPython.display import Image\n",
    "Image(filename='NEURON_plot.png')"
   ]
  }
 ],
 "metadata": {
  "kernelspec": {
   "display_name": "Python 2",
   "language": "python",
   "name": "python2"
  },
  "language_info": {
   "codemirror_mode": {
    "name": "ipython",
    "version": 2
   },
   "file_extension": ".py",
   "mimetype": "text/x-python",
   "name": "python",
   "nbconvert_exporter": "python",
   "pygments_lexer": "ipython2",
   "version": "2.7.10"
  }
 },
 "nbformat": 4,
 "nbformat_minor": 0
}
